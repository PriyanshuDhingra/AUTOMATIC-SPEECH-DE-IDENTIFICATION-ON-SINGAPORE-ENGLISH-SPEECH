{
 "cells": [
  {
   "cell_type": "code",
   "execution_count": 2,
   "metadata": {},
   "outputs": [
    {
     "name": "stdout",
     "output_type": "stream",
     "text": [
      "Data processing complete. Output saved to WER_true.jsonl.\n"
     ]
    }
   ],
   "source": [
    "import json\n",
    "input_file = 'Text_with_ids_preprocessed.jsonl'\n",
    "output_file = 'WER_true.jsonl'\n",
    "# Open the input and output files\n",
    "with open(input_file, 'r') as infile, open(output_file, 'w') as outfile:\n",
    "    for line in infile:\n",
    "        data = json.loads(line)\n",
    "        # Remove the 'entities' key\n",
    "        if 'entities' in data:\n",
    "            del data['entities']\n",
    "        # Write the modified data to the output file\n",
    "        outfile.write(json.dumps(data) + '\\n')\n",
    "print(f\"Data processing complete. Output saved to {output_file}.\")\n"
   ]
  },
  {
   "cell_type": "code",
   "execution_count": 6,
   "metadata": {},
   "outputs": [
    {
     "name": "stdout",
     "output_type": "stream",
     "text": [
      "Found 150 audio files in c:\\Users\\priya\\SpokenNER\\Audio_Files_for_testing\n"
     ]
    },
    {
     "name": "stderr",
     "output_type": "stream",
     "text": [
      "Processing audio files:   0%|          | 0/150 [00:00<?, ?it/s]"
     ]
    },
    {
     "name": "stdout",
     "output_type": "stream",
     "text": [
      "Attempting to transcribe: c:\\Users\\priya\\SpokenNER\\Audio_Files_for_testing\\id1.wav\n"
     ]
    },
    {
     "name": "stderr",
     "output_type": "stream",
     "text": [
      "Processing audio files:   1%|          | 1/150 [00:03<09:33,  3.85s/it]"
     ]
    },
    {
     "name": "stdout",
     "output_type": "stream",
     "text": [
      "Attempting to transcribe: c:\\Users\\priya\\SpokenNER\\Audio_Files_for_testing\\id2.wav\n"
     ]
    },
    {
     "name": "stderr",
     "output_type": "stream",
     "text": [
      "Processing audio files:   1%|▏         | 2/150 [00:06<07:10,  2.91s/it]"
     ]
    },
    {
     "name": "stdout",
     "output_type": "stream",
     "text": [
      "Attempting to transcribe: c:\\Users\\priya\\SpokenNER\\Audio_Files_for_testing\\id3.wav\n"
     ]
    },
    {
     "name": "stderr",
     "output_type": "stream",
     "text": [
      "Processing audio files:   2%|▏         | 3/150 [00:08<06:52,  2.81s/it]"
     ]
    },
    {
     "name": "stdout",
     "output_type": "stream",
     "text": [
      "Attempting to transcribe: c:\\Users\\priya\\SpokenNER\\Audio_Files_for_testing\\id4.wav\n"
     ]
    },
    {
     "name": "stderr",
     "output_type": "stream",
     "text": [
      "Processing audio files:   3%|▎         | 4/150 [00:11<06:20,  2.61s/it]"
     ]
    },
    {
     "name": "stdout",
     "output_type": "stream",
     "text": [
      "Attempting to transcribe: c:\\Users\\priya\\SpokenNER\\Audio_Files_for_testing\\id5.wav\n"
     ]
    },
    {
     "name": "stderr",
     "output_type": "stream",
     "text": [
      "Processing audio files:   3%|▎         | 5/150 [00:13<06:12,  2.57s/it]"
     ]
    },
    {
     "name": "stdout",
     "output_type": "stream",
     "text": [
      "Attempting to transcribe: c:\\Users\\priya\\SpokenNER\\Audio_Files_for_testing\\id6.wav\n"
     ]
    },
    {
     "name": "stderr",
     "output_type": "stream",
     "text": [
      "Processing audio files:   4%|▍         | 6/150 [00:16<06:03,  2.52s/it]"
     ]
    },
    {
     "name": "stdout",
     "output_type": "stream",
     "text": [
      "Attempting to transcribe: c:\\Users\\priya\\SpokenNER\\Audio_Files_for_testing\\id7.wav\n"
     ]
    },
    {
     "name": "stderr",
     "output_type": "stream",
     "text": [
      "Processing audio files:   5%|▍         | 7/150 [00:19<06:22,  2.68s/it]"
     ]
    },
    {
     "name": "stdout",
     "output_type": "stream",
     "text": [
      "Attempting to transcribe: c:\\Users\\priya\\SpokenNER\\Audio_Files_for_testing\\id8.wav\n"
     ]
    },
    {
     "name": "stderr",
     "output_type": "stream",
     "text": [
      "Processing audio files:   5%|▌         | 8/150 [00:21<06:27,  2.73s/it]"
     ]
    },
    {
     "name": "stdout",
     "output_type": "stream",
     "text": [
      "Attempting to transcribe: c:\\Users\\priya\\SpokenNER\\Audio_Files_for_testing\\id9.wav\n"
     ]
    },
    {
     "name": "stderr",
     "output_type": "stream",
     "text": [
      "Processing audio files:   6%|▌         | 9/150 [00:24<06:18,  2.68s/it]"
     ]
    },
    {
     "name": "stdout",
     "output_type": "stream",
     "text": [
      "Attempting to transcribe: c:\\Users\\priya\\SpokenNER\\Audio_Files_for_testing\\id10.wav\n"
     ]
    },
    {
     "name": "stderr",
     "output_type": "stream",
     "text": [
      "Processing audio files:   7%|▋         | 10/150 [00:26<06:04,  2.61s/it]"
     ]
    },
    {
     "name": "stdout",
     "output_type": "stream",
     "text": [
      "Attempting to transcribe: c:\\Users\\priya\\SpokenNER\\Audio_Files_for_testing\\id11.wav\n"
     ]
    },
    {
     "name": "stderr",
     "output_type": "stream",
     "text": [
      "Processing audio files:   7%|▋         | 11/150 [00:29<05:44,  2.48s/it]"
     ]
    },
    {
     "name": "stdout",
     "output_type": "stream",
     "text": [
      "Attempting to transcribe: c:\\Users\\priya\\SpokenNER\\Audio_Files_for_testing\\id12.wav\n"
     ]
    },
    {
     "name": "stderr",
     "output_type": "stream",
     "text": [
      "Processing audio files:   8%|▊         | 12/150 [00:31<05:31,  2.40s/it]"
     ]
    },
    {
     "name": "stdout",
     "output_type": "stream",
     "text": [
      "Attempting to transcribe: c:\\Users\\priya\\SpokenNER\\Audio_Files_for_testing\\id13.wav\n"
     ]
    },
    {
     "name": "stderr",
     "output_type": "stream",
     "text": [
      "Processing audio files:   9%|▊         | 13/150 [00:33<05:28,  2.40s/it]"
     ]
    },
    {
     "name": "stdout",
     "output_type": "stream",
     "text": [
      "Attempting to transcribe: c:\\Users\\priya\\SpokenNER\\Audio_Files_for_testing\\id14.wav\n"
     ]
    },
    {
     "name": "stderr",
     "output_type": "stream",
     "text": [
      "Processing audio files:   9%|▉         | 14/150 [00:36<06:04,  2.68s/it]"
     ]
    },
    {
     "name": "stdout",
     "output_type": "stream",
     "text": [
      "Attempting to transcribe: c:\\Users\\priya\\SpokenNER\\Audio_Files_for_testing\\id15.wav\n"
     ]
    },
    {
     "name": "stderr",
     "output_type": "stream",
     "text": [
      "Processing audio files:  10%|█         | 15/150 [00:41<07:01,  3.12s/it]"
     ]
    },
    {
     "name": "stdout",
     "output_type": "stream",
     "text": [
      "Attempting to transcribe: c:\\Users\\priya\\SpokenNER\\Audio_Files_for_testing\\id16.wav\n"
     ]
    },
    {
     "name": "stderr",
     "output_type": "stream",
     "text": [
      "Processing audio files:  11%|█         | 16/150 [00:44<06:57,  3.11s/it]"
     ]
    },
    {
     "name": "stdout",
     "output_type": "stream",
     "text": [
      "Attempting to transcribe: c:\\Users\\priya\\SpokenNER\\Audio_Files_for_testing\\id17.wav\n"
     ]
    },
    {
     "name": "stderr",
     "output_type": "stream",
     "text": [
      "Processing audio files:  11%|█▏        | 17/150 [00:48<07:30,  3.38s/it]"
     ]
    },
    {
     "name": "stdout",
     "output_type": "stream",
     "text": [
      "Attempting to transcribe: c:\\Users\\priya\\SpokenNER\\Audio_Files_for_testing\\id18.wav\n"
     ]
    },
    {
     "name": "stderr",
     "output_type": "stream",
     "text": [
      "Processing audio files:  12%|█▏        | 18/150 [00:51<07:31,  3.42s/it]"
     ]
    },
    {
     "name": "stdout",
     "output_type": "stream",
     "text": [
      "Attempting to transcribe: c:\\Users\\priya\\SpokenNER\\Audio_Files_for_testing\\id19.wav\n"
     ]
    },
    {
     "name": "stderr",
     "output_type": "stream",
     "text": [
      "Processing audio files:  13%|█▎        | 19/150 [00:54<07:01,  3.22s/it]"
     ]
    },
    {
     "name": "stdout",
     "output_type": "stream",
     "text": [
      "Attempting to transcribe: c:\\Users\\priya\\SpokenNER\\Audio_Files_for_testing\\id20.wav\n"
     ]
    },
    {
     "name": "stderr",
     "output_type": "stream",
     "text": [
      "Processing audio files:  13%|█▎        | 20/150 [00:57<06:42,  3.09s/it]"
     ]
    },
    {
     "name": "stdout",
     "output_type": "stream",
     "text": [
      "Attempting to transcribe: c:\\Users\\priya\\SpokenNER\\Audio_Files_for_testing\\id21.wav\n"
     ]
    },
    {
     "name": "stderr",
     "output_type": "stream",
     "text": [
      "Processing audio files:  14%|█▍        | 21/150 [00:59<06:12,  2.89s/it]"
     ]
    },
    {
     "name": "stdout",
     "output_type": "stream",
     "text": [
      "Attempting to transcribe: c:\\Users\\priya\\SpokenNER\\Audio_Files_for_testing\\id22.wav\n"
     ]
    },
    {
     "name": "stderr",
     "output_type": "stream",
     "text": [
      "Processing audio files:  15%|█▍        | 22/150 [01:02<06:22,  2.99s/it]"
     ]
    },
    {
     "name": "stdout",
     "output_type": "stream",
     "text": [
      "Attempting to transcribe: c:\\Users\\priya\\SpokenNER\\Audio_Files_for_testing\\id23.wav\n"
     ]
    },
    {
     "name": "stderr",
     "output_type": "stream",
     "text": [
      "Processing audio files:  15%|█▌        | 23/150 [01:05<06:15,  2.96s/it]"
     ]
    },
    {
     "name": "stdout",
     "output_type": "stream",
     "text": [
      "Attempting to transcribe: c:\\Users\\priya\\SpokenNER\\Audio_Files_for_testing\\id24.wav\n"
     ]
    },
    {
     "name": "stderr",
     "output_type": "stream",
     "text": [
      "Processing audio files:  16%|█▌        | 24/150 [01:08<06:00,  2.86s/it]"
     ]
    },
    {
     "name": "stdout",
     "output_type": "stream",
     "text": [
      "Attempting to transcribe: c:\\Users\\priya\\SpokenNER\\Audio_Files_for_testing\\id25.wav\n"
     ]
    },
    {
     "name": "stderr",
     "output_type": "stream",
     "text": [
      "Processing audio files:  17%|█▋        | 25/150 [01:11<06:03,  2.90s/it]"
     ]
    },
    {
     "name": "stdout",
     "output_type": "stream",
     "text": [
      "Attempting to transcribe: c:\\Users\\priya\\SpokenNER\\Audio_Files_for_testing\\id26.wav\n"
     ]
    },
    {
     "name": "stderr",
     "output_type": "stream",
     "text": [
      "Processing audio files:  17%|█▋        | 26/150 [01:14<05:59,  2.90s/it]"
     ]
    },
    {
     "name": "stdout",
     "output_type": "stream",
     "text": [
      "Attempting to transcribe: c:\\Users\\priya\\SpokenNER\\Audio_Files_for_testing\\id27.wav\n"
     ]
    },
    {
     "name": "stderr",
     "output_type": "stream",
     "text": [
      "Processing audio files:  18%|█▊        | 27/150 [01:17<06:05,  2.97s/it]"
     ]
    },
    {
     "name": "stdout",
     "output_type": "stream",
     "text": [
      "Attempting to transcribe: c:\\Users\\priya\\SpokenNER\\Audio_Files_for_testing\\id28.wav\n"
     ]
    },
    {
     "name": "stderr",
     "output_type": "stream",
     "text": [
      "Processing audio files:  19%|█▊        | 28/150 [01:20<05:58,  2.93s/it]"
     ]
    },
    {
     "name": "stdout",
     "output_type": "stream",
     "text": [
      "Attempting to transcribe: c:\\Users\\priya\\SpokenNER\\Audio_Files_for_testing\\id29.wav\n"
     ]
    },
    {
     "name": "stderr",
     "output_type": "stream",
     "text": [
      "Processing audio files:  19%|█▉        | 29/150 [01:22<05:41,  2.82s/it]"
     ]
    },
    {
     "name": "stdout",
     "output_type": "stream",
     "text": [
      "Attempting to transcribe: c:\\Users\\priya\\SpokenNER\\Audio_Files_for_testing\\id30.wav\n"
     ]
    },
    {
     "name": "stderr",
     "output_type": "stream",
     "text": [
      "Processing audio files:  20%|██        | 30/150 [01:25<05:48,  2.90s/it]"
     ]
    },
    {
     "name": "stdout",
     "output_type": "stream",
     "text": [
      "Attempting to transcribe: c:\\Users\\priya\\SpokenNER\\Audio_Files_for_testing\\id31.wav\n"
     ]
    },
    {
     "name": "stderr",
     "output_type": "stream",
     "text": [
      "Processing audio files:  21%|██        | 31/150 [01:28<05:26,  2.74s/it]"
     ]
    },
    {
     "name": "stdout",
     "output_type": "stream",
     "text": [
      "Attempting to transcribe: c:\\Users\\priya\\SpokenNER\\Audio_Files_for_testing\\id32.wav\n"
     ]
    },
    {
     "name": "stderr",
     "output_type": "stream",
     "text": [
      "Processing audio files:  21%|██▏       | 32/150 [01:31<05:25,  2.76s/it]"
     ]
    },
    {
     "name": "stdout",
     "output_type": "stream",
     "text": [
      "Attempting to transcribe: c:\\Users\\priya\\SpokenNER\\Audio_Files_for_testing\\id33.wav\n"
     ]
    },
    {
     "name": "stderr",
     "output_type": "stream",
     "text": [
      "Processing audio files:  22%|██▏       | 33/150 [01:34<05:33,  2.85s/it]"
     ]
    },
    {
     "name": "stdout",
     "output_type": "stream",
     "text": [
      "Attempting to transcribe: c:\\Users\\priya\\SpokenNER\\Audio_Files_for_testing\\id34.wav\n"
     ]
    },
    {
     "name": "stderr",
     "output_type": "stream",
     "text": [
      "Processing audio files:  23%|██▎       | 34/150 [01:37<05:28,  2.83s/it]"
     ]
    },
    {
     "name": "stdout",
     "output_type": "stream",
     "text": [
      "Attempting to transcribe: c:\\Users\\priya\\SpokenNER\\Audio_Files_for_testing\\id35.wav\n"
     ]
    },
    {
     "name": "stderr",
     "output_type": "stream",
     "text": [
      "Processing audio files:  23%|██▎       | 35/150 [01:39<05:14,  2.74s/it]"
     ]
    },
    {
     "name": "stdout",
     "output_type": "stream",
     "text": [
      "Attempting to transcribe: c:\\Users\\priya\\SpokenNER\\Audio_Files_for_testing\\id36.wav\n"
     ]
    },
    {
     "name": "stderr",
     "output_type": "stream",
     "text": [
      "Processing audio files:  24%|██▍       | 36/150 [01:42<05:04,  2.67s/it]"
     ]
    },
    {
     "name": "stdout",
     "output_type": "stream",
     "text": [
      "Attempting to transcribe: c:\\Users\\priya\\SpokenNER\\Audio_Files_for_testing\\id37.wav\n"
     ]
    },
    {
     "name": "stderr",
     "output_type": "stream",
     "text": [
      "Processing audio files:  25%|██▍       | 37/150 [01:46<05:47,  3.08s/it]"
     ]
    },
    {
     "name": "stdout",
     "output_type": "stream",
     "text": [
      "Attempting to transcribe: c:\\Users\\priya\\SpokenNER\\Audio_Files_for_testing\\id38.wav\n"
     ]
    },
    {
     "name": "stderr",
     "output_type": "stream",
     "text": [
      "Processing audio files:  25%|██▌       | 38/150 [01:49<05:58,  3.20s/it]"
     ]
    },
    {
     "name": "stdout",
     "output_type": "stream",
     "text": [
      "Attempting to transcribe: c:\\Users\\priya\\SpokenNER\\Audio_Files_for_testing\\id39.wav\n"
     ]
    },
    {
     "name": "stderr",
     "output_type": "stream",
     "text": [
      "Processing audio files:  26%|██▌       | 39/150 [01:52<05:54,  3.20s/it]"
     ]
    },
    {
     "name": "stdout",
     "output_type": "stream",
     "text": [
      "Attempting to transcribe: c:\\Users\\priya\\SpokenNER\\Audio_Files_for_testing\\id40.wav\n"
     ]
    },
    {
     "name": "stderr",
     "output_type": "stream",
     "text": [
      "Processing audio files:  27%|██▋       | 40/150 [01:55<05:32,  3.02s/it]"
     ]
    },
    {
     "name": "stdout",
     "output_type": "stream",
     "text": [
      "Attempting to transcribe: c:\\Users\\priya\\SpokenNER\\Audio_Files_for_testing\\id41.wav\n"
     ]
    },
    {
     "name": "stderr",
     "output_type": "stream",
     "text": [
      "Processing audio files:  27%|██▋       | 41/150 [01:58<05:38,  3.10s/it]"
     ]
    },
    {
     "name": "stdout",
     "output_type": "stream",
     "text": [
      "Attempting to transcribe: c:\\Users\\priya\\SpokenNER\\Audio_Files_for_testing\\id42.wav\n"
     ]
    },
    {
     "name": "stderr",
     "output_type": "stream",
     "text": [
      "Processing audio files:  28%|██▊       | 42/150 [02:01<05:32,  3.08s/it]"
     ]
    },
    {
     "name": "stdout",
     "output_type": "stream",
     "text": [
      "Attempting to transcribe: c:\\Users\\priya\\SpokenNER\\Audio_Files_for_testing\\id43.wav\n"
     ]
    },
    {
     "name": "stderr",
     "output_type": "stream",
     "text": [
      "Processing audio files:  29%|██▊       | 43/150 [02:04<05:12,  2.92s/it]"
     ]
    },
    {
     "name": "stdout",
     "output_type": "stream",
     "text": [
      "Attempting to transcribe: c:\\Users\\priya\\SpokenNER\\Audio_Files_for_testing\\id44.wav\n"
     ]
    },
    {
     "name": "stderr",
     "output_type": "stream",
     "text": [
      "Processing audio files:  29%|██▉       | 44/150 [02:06<05:02,  2.85s/it]"
     ]
    },
    {
     "name": "stdout",
     "output_type": "stream",
     "text": [
      "Attempting to transcribe: c:\\Users\\priya\\SpokenNER\\Audio_Files_for_testing\\id45.wav\n"
     ]
    },
    {
     "name": "stderr",
     "output_type": "stream",
     "text": [
      "Processing audio files:  30%|███       | 45/150 [02:10<05:10,  2.95s/it]"
     ]
    },
    {
     "name": "stdout",
     "output_type": "stream",
     "text": [
      "Attempting to transcribe: c:\\Users\\priya\\SpokenNER\\Audio_Files_for_testing\\id46.wav\n"
     ]
    },
    {
     "name": "stderr",
     "output_type": "stream",
     "text": [
      "Processing audio files:  31%|███       | 46/150 [02:13<05:28,  3.16s/it]"
     ]
    },
    {
     "name": "stdout",
     "output_type": "stream",
     "text": [
      "Attempting to transcribe: c:\\Users\\priya\\SpokenNER\\Audio_Files_for_testing\\id47.wav\n"
     ]
    },
    {
     "name": "stderr",
     "output_type": "stream",
     "text": [
      "Processing audio files:  31%|███▏      | 47/150 [02:18<06:05,  3.55s/it]"
     ]
    },
    {
     "name": "stdout",
     "output_type": "stream",
     "text": [
      "Attempting to transcribe: c:\\Users\\priya\\SpokenNER\\Audio_Files_for_testing\\id48.wav\n"
     ]
    },
    {
     "name": "stderr",
     "output_type": "stream",
     "text": [
      "Processing audio files:  32%|███▏      | 48/150 [02:22<06:32,  3.84s/it]"
     ]
    },
    {
     "name": "stdout",
     "output_type": "stream",
     "text": [
      "Attempting to transcribe: c:\\Users\\priya\\SpokenNER\\Audio_Files_for_testing\\id49.wav\n"
     ]
    },
    {
     "name": "stderr",
     "output_type": "stream",
     "text": [
      "Processing audio files:  33%|███▎      | 49/150 [02:25<06:07,  3.64s/it]"
     ]
    },
    {
     "name": "stdout",
     "output_type": "stream",
     "text": [
      "Attempting to transcribe: c:\\Users\\priya\\SpokenNER\\Audio_Files_for_testing\\id50.wav\n"
     ]
    },
    {
     "name": "stderr",
     "output_type": "stream",
     "text": [
      "Processing audio files:  33%|███▎      | 50/150 [02:29<05:50,  3.50s/it]"
     ]
    },
    {
     "name": "stdout",
     "output_type": "stream",
     "text": [
      "Attempting to transcribe: c:\\Users\\priya\\SpokenNER\\Audio_Files_for_testing\\id51.wav\n"
     ]
    },
    {
     "name": "stderr",
     "output_type": "stream",
     "text": [
      "Processing audio files:  34%|███▍      | 51/150 [02:32<05:46,  3.50s/it]"
     ]
    },
    {
     "name": "stdout",
     "output_type": "stream",
     "text": [
      "Attempting to transcribe: c:\\Users\\priya\\SpokenNER\\Audio_Files_for_testing\\id52.wav\n"
     ]
    },
    {
     "name": "stderr",
     "output_type": "stream",
     "text": [
      "Processing audio files:  35%|███▍      | 52/150 [02:34<05:09,  3.16s/it]"
     ]
    },
    {
     "name": "stdout",
     "output_type": "stream",
     "text": [
      "Attempting to transcribe: c:\\Users\\priya\\SpokenNER\\Audio_Files_for_testing\\id53.wav\n"
     ]
    },
    {
     "name": "stderr",
     "output_type": "stream",
     "text": [
      "Processing audio files:  35%|███▌      | 53/150 [02:37<04:46,  2.95s/it]"
     ]
    },
    {
     "name": "stdout",
     "output_type": "stream",
     "text": [
      "Attempting to transcribe: c:\\Users\\priya\\SpokenNER\\Audio_Files_for_testing\\id54.wav\n"
     ]
    },
    {
     "name": "stderr",
     "output_type": "stream",
     "text": [
      "Processing audio files:  36%|███▌      | 54/150 [02:41<05:16,  3.30s/it]"
     ]
    },
    {
     "name": "stdout",
     "output_type": "stream",
     "text": [
      "Attempting to transcribe: c:\\Users\\priya\\SpokenNER\\Audio_Files_for_testing\\id55.wav\n"
     ]
    },
    {
     "name": "stderr",
     "output_type": "stream",
     "text": [
      "Processing audio files:  37%|███▋      | 55/150 [02:44<05:11,  3.28s/it]"
     ]
    },
    {
     "name": "stdout",
     "output_type": "stream",
     "text": [
      "Attempting to transcribe: c:\\Users\\priya\\SpokenNER\\Audio_Files_for_testing\\id56.wav\n"
     ]
    },
    {
     "name": "stderr",
     "output_type": "stream",
     "text": [
      "Processing audio files:  37%|███▋      | 56/150 [02:47<04:51,  3.10s/it]"
     ]
    },
    {
     "name": "stdout",
     "output_type": "stream",
     "text": [
      "Attempting to transcribe: c:\\Users\\priya\\SpokenNER\\Audio_Files_for_testing\\id57.wav\n"
     ]
    },
    {
     "name": "stderr",
     "output_type": "stream",
     "text": [
      "Processing audio files:  38%|███▊      | 57/150 [02:50<04:33,  2.94s/it]"
     ]
    },
    {
     "name": "stdout",
     "output_type": "stream",
     "text": [
      "Attempting to transcribe: c:\\Users\\priya\\SpokenNER\\Audio_Files_for_testing\\id58.wav\n"
     ]
    },
    {
     "name": "stderr",
     "output_type": "stream",
     "text": [
      "Processing audio files:  39%|███▊      | 58/150 [02:52<04:22,  2.85s/it]"
     ]
    },
    {
     "name": "stdout",
     "output_type": "stream",
     "text": [
      "Attempting to transcribe: c:\\Users\\priya\\SpokenNER\\Audio_Files_for_testing\\id59.wav\n"
     ]
    },
    {
     "name": "stderr",
     "output_type": "stream",
     "text": [
      "Processing audio files:  39%|███▉      | 59/150 [02:56<04:39,  3.08s/it]"
     ]
    },
    {
     "name": "stdout",
     "output_type": "stream",
     "text": [
      "Attempting to transcribe: c:\\Users\\priya\\SpokenNER\\Audio_Files_for_testing\\id60.wav\n"
     ]
    },
    {
     "name": "stderr",
     "output_type": "stream",
     "text": [
      "Processing audio files:  40%|████      | 60/150 [02:58<04:24,  2.94s/it]"
     ]
    },
    {
     "name": "stdout",
     "output_type": "stream",
     "text": [
      "Attempting to transcribe: c:\\Users\\priya\\SpokenNER\\Audio_Files_for_testing\\id61.wav\n"
     ]
    },
    {
     "name": "stderr",
     "output_type": "stream",
     "text": [
      "Processing audio files:  41%|████      | 61/150 [03:02<04:27,  3.00s/it]"
     ]
    },
    {
     "name": "stdout",
     "output_type": "stream",
     "text": [
      "Attempting to transcribe: c:\\Users\\priya\\SpokenNER\\Audio_Files_for_testing\\id62.wav\n"
     ]
    },
    {
     "name": "stderr",
     "output_type": "stream",
     "text": [
      "Processing audio files:  41%|████▏     | 62/150 [03:04<04:08,  2.83s/it]"
     ]
    },
    {
     "name": "stdout",
     "output_type": "stream",
     "text": [
      "Attempting to transcribe: c:\\Users\\priya\\SpokenNER\\Audio_Files_for_testing\\id63.wav\n"
     ]
    },
    {
     "name": "stderr",
     "output_type": "stream",
     "text": [
      "Processing audio files:  42%|████▏     | 63/150 [03:07<03:59,  2.75s/it]"
     ]
    },
    {
     "name": "stdout",
     "output_type": "stream",
     "text": [
      "Attempting to transcribe: c:\\Users\\priya\\SpokenNER\\Audio_Files_for_testing\\id64.wav\n"
     ]
    },
    {
     "name": "stderr",
     "output_type": "stream",
     "text": [
      "Processing audio files:  43%|████▎     | 64/150 [03:09<03:55,  2.74s/it]"
     ]
    },
    {
     "name": "stdout",
     "output_type": "stream",
     "text": [
      "Attempting to transcribe: c:\\Users\\priya\\SpokenNER\\Audio_Files_for_testing\\id65.wav\n"
     ]
    },
    {
     "name": "stderr",
     "output_type": "stream",
     "text": [
      "Processing audio files:  43%|████▎     | 65/150 [03:12<03:56,  2.78s/it]"
     ]
    },
    {
     "name": "stdout",
     "output_type": "stream",
     "text": [
      "Attempting to transcribe: c:\\Users\\priya\\SpokenNER\\Audio_Files_for_testing\\id66.wav\n"
     ]
    },
    {
     "name": "stderr",
     "output_type": "stream",
     "text": [
      "Processing audio files:  44%|████▍     | 66/150 [03:16<04:29,  3.21s/it]"
     ]
    },
    {
     "name": "stdout",
     "output_type": "stream",
     "text": [
      "Attempting to transcribe: c:\\Users\\priya\\SpokenNER\\Audio_Files_for_testing\\id67.wav\n"
     ]
    },
    {
     "name": "stderr",
     "output_type": "stream",
     "text": [
      "Processing audio files:  45%|████▍     | 67/150 [03:19<04:19,  3.13s/it]"
     ]
    },
    {
     "name": "stdout",
     "output_type": "stream",
     "text": [
      "Attempting to transcribe: c:\\Users\\priya\\SpokenNER\\Audio_Files_for_testing\\id68.wav\n"
     ]
    },
    {
     "name": "stderr",
     "output_type": "stream",
     "text": [
      "Processing audio files:  45%|████▌     | 68/150 [03:22<04:06,  3.00s/it]"
     ]
    },
    {
     "name": "stdout",
     "output_type": "stream",
     "text": [
      "Attempting to transcribe: c:\\Users\\priya\\SpokenNER\\Audio_Files_for_testing\\id69.wav\n"
     ]
    },
    {
     "name": "stderr",
     "output_type": "stream",
     "text": [
      "Processing audio files:  46%|████▌     | 69/150 [03:25<03:52,  2.87s/it]"
     ]
    },
    {
     "name": "stdout",
     "output_type": "stream",
     "text": [
      "Attempting to transcribe: c:\\Users\\priya\\SpokenNER\\Audio_Files_for_testing\\id70.wav\n"
     ]
    },
    {
     "name": "stderr",
     "output_type": "stream",
     "text": [
      "Processing audio files:  47%|████▋     | 70/150 [03:27<03:47,  2.84s/it]"
     ]
    },
    {
     "name": "stdout",
     "output_type": "stream",
     "text": [
      "Attempting to transcribe: c:\\Users\\priya\\SpokenNER\\Audio_Files_for_testing\\id71.wav\n"
     ]
    },
    {
     "name": "stderr",
     "output_type": "stream",
     "text": [
      "Processing audio files:  47%|████▋     | 71/150 [03:30<03:46,  2.86s/it]"
     ]
    },
    {
     "name": "stdout",
     "output_type": "stream",
     "text": [
      "Attempting to transcribe: c:\\Users\\priya\\SpokenNER\\Audio_Files_for_testing\\id72.wav\n"
     ]
    },
    {
     "name": "stderr",
     "output_type": "stream",
     "text": [
      "Processing audio files:  48%|████▊     | 72/150 [03:33<03:35,  2.76s/it]"
     ]
    },
    {
     "name": "stdout",
     "output_type": "stream",
     "text": [
      "Attempting to transcribe: c:\\Users\\priya\\SpokenNER\\Audio_Files_for_testing\\id73.wav\n"
     ]
    },
    {
     "name": "stderr",
     "output_type": "stream",
     "text": [
      "Processing audio files:  49%|████▊     | 73/150 [03:36<03:37,  2.83s/it]"
     ]
    },
    {
     "name": "stdout",
     "output_type": "stream",
     "text": [
      "Attempting to transcribe: c:\\Users\\priya\\SpokenNER\\Audio_Files_for_testing\\id74.wav\n"
     ]
    },
    {
     "name": "stderr",
     "output_type": "stream",
     "text": [
      "Processing audio files:  49%|████▉     | 74/150 [03:39<03:36,  2.84s/it]"
     ]
    },
    {
     "name": "stdout",
     "output_type": "stream",
     "text": [
      "Attempting to transcribe: c:\\Users\\priya\\SpokenNER\\Audio_Files_for_testing\\id75.wav\n"
     ]
    },
    {
     "name": "stderr",
     "output_type": "stream",
     "text": [
      "Processing audio files:  50%|█████     | 75/150 [03:42<03:35,  2.87s/it]"
     ]
    },
    {
     "name": "stdout",
     "output_type": "stream",
     "text": [
      "Attempting to transcribe: c:\\Users\\priya\\SpokenNER\\Audio_Files_for_testing\\id76.wav\n"
     ]
    },
    {
     "name": "stderr",
     "output_type": "stream",
     "text": [
      "Processing audio files:  51%|█████     | 76/150 [03:45<03:35,  2.91s/it]"
     ]
    },
    {
     "name": "stdout",
     "output_type": "stream",
     "text": [
      "Attempting to transcribe: c:\\Users\\priya\\SpokenNER\\Audio_Files_for_testing\\id77.wav\n"
     ]
    },
    {
     "name": "stderr",
     "output_type": "stream",
     "text": [
      "Processing audio files:  51%|█████▏    | 77/150 [04:36<21:10, 17.40s/it]"
     ]
    },
    {
     "name": "stdout",
     "output_type": "stream",
     "text": [
      "Attempting to transcribe: c:\\Users\\priya\\SpokenNER\\Audio_Files_for_testing\\id78.wav\n"
     ]
    },
    {
     "name": "stderr",
     "output_type": "stream",
     "text": [
      "Processing audio files:  52%|█████▏    | 78/150 [04:38<15:31, 12.93s/it]"
     ]
    },
    {
     "name": "stdout",
     "output_type": "stream",
     "text": [
      "Attempting to transcribe: c:\\Users\\priya\\SpokenNER\\Audio_Files_for_testing\\id79.wav\n"
     ]
    },
    {
     "name": "stderr",
     "output_type": "stream",
     "text": [
      "Processing audio files:  53%|█████▎    | 79/150 [04:41<11:34,  9.78s/it]"
     ]
    },
    {
     "name": "stdout",
     "output_type": "stream",
     "text": [
      "Attempting to transcribe: c:\\Users\\priya\\SpokenNER\\Audio_Files_for_testing\\id80.wav\n"
     ]
    },
    {
     "name": "stderr",
     "output_type": "stream",
     "text": [
      "Processing audio files:  53%|█████▎    | 80/150 [04:43<08:57,  7.68s/it]"
     ]
    },
    {
     "name": "stdout",
     "output_type": "stream",
     "text": [
      "Attempting to transcribe: c:\\Users\\priya\\SpokenNER\\Audio_Files_for_testing\\id81.wav\n"
     ]
    },
    {
     "name": "stderr",
     "output_type": "stream",
     "text": [
      "Processing audio files:  54%|█████▍    | 81/150 [04:47<07:18,  6.35s/it]"
     ]
    },
    {
     "name": "stdout",
     "output_type": "stream",
     "text": [
      "Attempting to transcribe: c:\\Users\\priya\\SpokenNER\\Audio_Files_for_testing\\id82.wav\n"
     ]
    },
    {
     "name": "stderr",
     "output_type": "stream",
     "text": [
      "Processing audio files:  55%|█████▍    | 82/150 [04:49<05:58,  5.27s/it]"
     ]
    },
    {
     "name": "stdout",
     "output_type": "stream",
     "text": [
      "Attempting to transcribe: c:\\Users\\priya\\SpokenNER\\Audio_Files_for_testing\\id83.wav\n"
     ]
    },
    {
     "name": "stderr",
     "output_type": "stream",
     "text": [
      "Processing audio files:  55%|█████▌    | 83/150 [04:52<05:03,  4.53s/it]"
     ]
    },
    {
     "name": "stdout",
     "output_type": "stream",
     "text": [
      "Attempting to transcribe: c:\\Users\\priya\\SpokenNER\\Audio_Files_for_testing\\id84.wav\n"
     ]
    },
    {
     "name": "stderr",
     "output_type": "stream",
     "text": [
      "Processing audio files:  56%|█████▌    | 84/150 [04:55<04:28,  4.07s/it]"
     ]
    },
    {
     "name": "stdout",
     "output_type": "stream",
     "text": [
      "Attempting to transcribe: c:\\Users\\priya\\SpokenNER\\Audio_Files_for_testing\\id85.wav\n"
     ]
    },
    {
     "name": "stderr",
     "output_type": "stream",
     "text": [
      "Processing audio files:  57%|█████▋    | 85/150 [04:58<03:59,  3.69s/it]"
     ]
    },
    {
     "name": "stdout",
     "output_type": "stream",
     "text": [
      "Attempting to transcribe: c:\\Users\\priya\\SpokenNER\\Audio_Files_for_testing\\id86.wav\n"
     ]
    },
    {
     "name": "stderr",
     "output_type": "stream",
     "text": [
      "Processing audio files:  57%|█████▋    | 86/150 [05:01<03:41,  3.46s/it]"
     ]
    },
    {
     "name": "stdout",
     "output_type": "stream",
     "text": [
      "Attempting to transcribe: c:\\Users\\priya\\SpokenNER\\Audio_Files_for_testing\\id87.wav\n"
     ]
    },
    {
     "name": "stderr",
     "output_type": "stream",
     "text": [
      "Processing audio files:  58%|█████▊    | 87/150 [05:03<03:19,  3.17s/it]"
     ]
    },
    {
     "name": "stdout",
     "output_type": "stream",
     "text": [
      "Attempting to transcribe: c:\\Users\\priya\\SpokenNER\\Audio_Files_for_testing\\id88.wav\n"
     ]
    },
    {
     "name": "stderr",
     "output_type": "stream",
     "text": [
      "Processing audio files:  59%|█████▊    | 88/150 [05:07<03:15,  3.15s/it]"
     ]
    },
    {
     "name": "stdout",
     "output_type": "stream",
     "text": [
      "Attempting to transcribe: c:\\Users\\priya\\SpokenNER\\Audio_Files_for_testing\\id89.wav\n"
     ]
    },
    {
     "name": "stderr",
     "output_type": "stream",
     "text": [
      "Processing audio files:  59%|█████▉    | 89/150 [05:11<03:36,  3.54s/it]"
     ]
    },
    {
     "name": "stdout",
     "output_type": "stream",
     "text": [
      "Attempting to transcribe: c:\\Users\\priya\\SpokenNER\\Audio_Files_for_testing\\id90.wav\n"
     ]
    },
    {
     "name": "stderr",
     "output_type": "stream",
     "text": [
      "Processing audio files:  60%|██████    | 90/150 [05:14<03:22,  3.38s/it]"
     ]
    },
    {
     "name": "stdout",
     "output_type": "stream",
     "text": [
      "Attempting to transcribe: c:\\Users\\priya\\SpokenNER\\Audio_Files_for_testing\\id91.wav\n"
     ]
    },
    {
     "name": "stderr",
     "output_type": "stream",
     "text": [
      "Processing audio files:  61%|██████    | 91/150 [05:17<03:13,  3.28s/it]"
     ]
    },
    {
     "name": "stdout",
     "output_type": "stream",
     "text": [
      "Attempting to transcribe: c:\\Users\\priya\\SpokenNER\\Audio_Files_for_testing\\id92.wav\n"
     ]
    },
    {
     "name": "stderr",
     "output_type": "stream",
     "text": [
      "Processing audio files:  61%|██████▏   | 92/150 [05:20<03:05,  3.21s/it]"
     ]
    },
    {
     "name": "stdout",
     "output_type": "stream",
     "text": [
      "Attempting to transcribe: c:\\Users\\priya\\SpokenNER\\Audio_Files_for_testing\\id93.wav\n"
     ]
    },
    {
     "name": "stderr",
     "output_type": "stream",
     "text": [
      "Processing audio files:  62%|██████▏   | 93/150 [05:23<03:02,  3.20s/it]"
     ]
    },
    {
     "name": "stdout",
     "output_type": "stream",
     "text": [
      "Attempting to transcribe: c:\\Users\\priya\\SpokenNER\\Audio_Files_for_testing\\id94.wav\n"
     ]
    },
    {
     "name": "stderr",
     "output_type": "stream",
     "text": [
      "Processing audio files:  63%|██████▎   | 94/150 [05:27<03:00,  3.23s/it]"
     ]
    },
    {
     "name": "stdout",
     "output_type": "stream",
     "text": [
      "Attempting to transcribe: c:\\Users\\priya\\SpokenNER\\Audio_Files_for_testing\\id95.wav\n"
     ]
    },
    {
     "name": "stderr",
     "output_type": "stream",
     "text": [
      "Processing audio files:  63%|██████▎   | 95/150 [05:30<02:55,  3.19s/it]"
     ]
    },
    {
     "name": "stdout",
     "output_type": "stream",
     "text": [
      "Attempting to transcribe: c:\\Users\\priya\\SpokenNER\\Audio_Files_for_testing\\id96.wav\n"
     ]
    },
    {
     "name": "stderr",
     "output_type": "stream",
     "text": [
      "Processing audio files:  64%|██████▍   | 96/150 [05:34<03:06,  3.46s/it]"
     ]
    },
    {
     "name": "stdout",
     "output_type": "stream",
     "text": [
      "Attempting to transcribe: c:\\Users\\priya\\SpokenNER\\Audio_Files_for_testing\\id97.wav\n"
     ]
    },
    {
     "name": "stderr",
     "output_type": "stream",
     "text": [
      "Processing audio files:  65%|██████▍   | 97/150 [05:37<02:59,  3.38s/it]"
     ]
    },
    {
     "name": "stdout",
     "output_type": "stream",
     "text": [
      "Attempting to transcribe: c:\\Users\\priya\\SpokenNER\\Audio_Files_for_testing\\id98.wav\n"
     ]
    },
    {
     "name": "stderr",
     "output_type": "stream",
     "text": [
      "Processing audio files:  65%|██████▌   | 98/150 [05:42<03:27,  3.99s/it]"
     ]
    },
    {
     "name": "stdout",
     "output_type": "stream",
     "text": [
      "Attempting to transcribe: c:\\Users\\priya\\SpokenNER\\Audio_Files_for_testing\\id99.wav\n"
     ]
    },
    {
     "name": "stderr",
     "output_type": "stream",
     "text": [
      "Processing audio files:  66%|██████▌   | 99/150 [05:45<03:06,  3.65s/it]"
     ]
    },
    {
     "name": "stdout",
     "output_type": "stream",
     "text": [
      "Attempting to transcribe: c:\\Users\\priya\\SpokenNER\\Audio_Files_for_testing\\id100.wav\n"
     ]
    },
    {
     "name": "stderr",
     "output_type": "stream",
     "text": [
      "Processing audio files:  67%|██████▋   | 100/150 [05:48<02:45,  3.31s/it]"
     ]
    },
    {
     "name": "stdout",
     "output_type": "stream",
     "text": [
      "Attempting to transcribe: c:\\Users\\priya\\SpokenNER\\Audio_Files_for_testing\\id101.wav\n"
     ]
    },
    {
     "name": "stderr",
     "output_type": "stream",
     "text": [
      "Processing audio files:  67%|██████▋   | 101/150 [05:51<02:39,  3.26s/it]"
     ]
    },
    {
     "name": "stdout",
     "output_type": "stream",
     "text": [
      "Attempting to transcribe: c:\\Users\\priya\\SpokenNER\\Audio_Files_for_testing\\id102.wav\n"
     ]
    },
    {
     "name": "stderr",
     "output_type": "stream",
     "text": [
      "Processing audio files:  68%|██████▊   | 102/150 [05:55<02:45,  3.45s/it]"
     ]
    },
    {
     "name": "stdout",
     "output_type": "stream",
     "text": [
      "Attempting to transcribe: c:\\Users\\priya\\SpokenNER\\Audio_Files_for_testing\\id103.wav\n"
     ]
    },
    {
     "name": "stderr",
     "output_type": "stream",
     "text": [
      "Processing audio files:  69%|██████▊   | 103/150 [05:58<02:38,  3.38s/it]"
     ]
    },
    {
     "name": "stdout",
     "output_type": "stream",
     "text": [
      "Attempting to transcribe: c:\\Users\\priya\\SpokenNER\\Audio_Files_for_testing\\id104.wav\n"
     ]
    },
    {
     "name": "stderr",
     "output_type": "stream",
     "text": [
      "Processing audio files:  69%|██████▉   | 104/150 [06:01<02:33,  3.35s/it]"
     ]
    },
    {
     "name": "stdout",
     "output_type": "stream",
     "text": [
      "Attempting to transcribe: c:\\Users\\priya\\SpokenNER\\Audio_Files_for_testing\\id105.wav\n"
     ]
    },
    {
     "name": "stderr",
     "output_type": "stream",
     "text": [
      "Processing audio files:  70%|███████   | 105/150 [06:04<02:21,  3.15s/it]"
     ]
    },
    {
     "name": "stdout",
     "output_type": "stream",
     "text": [
      "Attempting to transcribe: c:\\Users\\priya\\SpokenNER\\Audio_Files_for_testing\\id106.wav\n"
     ]
    },
    {
     "name": "stderr",
     "output_type": "stream",
     "text": [
      "Processing audio files:  71%|███████   | 106/150 [06:07<02:11,  2.99s/it]"
     ]
    },
    {
     "name": "stdout",
     "output_type": "stream",
     "text": [
      "Attempting to transcribe: c:\\Users\\priya\\SpokenNER\\Audio_Files_for_testing\\id107.wav\n"
     ]
    },
    {
     "name": "stderr",
     "output_type": "stream",
     "text": [
      "Processing audio files:  71%|███████▏  | 107/150 [06:10<02:19,  3.24s/it]"
     ]
    },
    {
     "name": "stdout",
     "output_type": "stream",
     "text": [
      "Attempting to transcribe: c:\\Users\\priya\\SpokenNER\\Audio_Files_for_testing\\id108.wav\n"
     ]
    },
    {
     "name": "stderr",
     "output_type": "stream",
     "text": [
      "Processing audio files:  72%|███████▏  | 108/150 [06:13<02:08,  3.06s/it]"
     ]
    },
    {
     "name": "stdout",
     "output_type": "stream",
     "text": [
      "Attempting to transcribe: c:\\Users\\priya\\SpokenNER\\Audio_Files_for_testing\\id109.wav\n"
     ]
    },
    {
     "name": "stderr",
     "output_type": "stream",
     "text": [
      "Processing audio files:  73%|███████▎  | 109/150 [06:16<02:03,  3.02s/it]"
     ]
    },
    {
     "name": "stdout",
     "output_type": "stream",
     "text": [
      "Attempting to transcribe: c:\\Users\\priya\\SpokenNER\\Audio_Files_for_testing\\id110.wav\n"
     ]
    },
    {
     "name": "stderr",
     "output_type": "stream",
     "text": [
      "Processing audio files:  73%|███████▎  | 110/150 [06:18<01:51,  2.79s/it]"
     ]
    },
    {
     "name": "stdout",
     "output_type": "stream",
     "text": [
      "Attempting to transcribe: c:\\Users\\priya\\SpokenNER\\Audio_Files_for_testing\\id111.wav\n"
     ]
    },
    {
     "name": "stderr",
     "output_type": "stream",
     "text": [
      "Processing audio files:  74%|███████▍  | 111/150 [06:20<01:41,  2.61s/it]"
     ]
    },
    {
     "name": "stdout",
     "output_type": "stream",
     "text": [
      "Attempting to transcribe: c:\\Users\\priya\\SpokenNER\\Audio_Files_for_testing\\id112.wav\n"
     ]
    },
    {
     "name": "stderr",
     "output_type": "stream",
     "text": [
      "Processing audio files:  75%|███████▍  | 112/150 [06:23<01:36,  2.54s/it]"
     ]
    },
    {
     "name": "stdout",
     "output_type": "stream",
     "text": [
      "Attempting to transcribe: c:\\Users\\priya\\SpokenNER\\Audio_Files_for_testing\\id113.wav\n"
     ]
    },
    {
     "name": "stderr",
     "output_type": "stream",
     "text": [
      "Processing audio files:  75%|███████▌  | 113/150 [06:25<01:34,  2.56s/it]"
     ]
    },
    {
     "name": "stdout",
     "output_type": "stream",
     "text": [
      "Attempting to transcribe: c:\\Users\\priya\\SpokenNER\\Audio_Files_for_testing\\id114.wav\n"
     ]
    },
    {
     "name": "stderr",
     "output_type": "stream",
     "text": [
      "Processing audio files:  76%|███████▌  | 114/150 [06:28<01:32,  2.57s/it]"
     ]
    },
    {
     "name": "stdout",
     "output_type": "stream",
     "text": [
      "Attempting to transcribe: c:\\Users\\priya\\SpokenNER\\Audio_Files_for_testing\\id115.wav\n"
     ]
    },
    {
     "name": "stderr",
     "output_type": "stream",
     "text": [
      "Processing audio files:  77%|███████▋  | 115/150 [06:30<01:28,  2.53s/it]"
     ]
    },
    {
     "name": "stdout",
     "output_type": "stream",
     "text": [
      "Attempting to transcribe: c:\\Users\\priya\\SpokenNER\\Audio_Files_for_testing\\id116.wav\n"
     ]
    },
    {
     "name": "stderr",
     "output_type": "stream",
     "text": [
      "Processing audio files:  77%|███████▋  | 116/150 [06:33<01:25,  2.51s/it]"
     ]
    },
    {
     "name": "stdout",
     "output_type": "stream",
     "text": [
      "Attempting to transcribe: c:\\Users\\priya\\SpokenNER\\Audio_Files_for_testing\\id117.wav\n"
     ]
    },
    {
     "name": "stderr",
     "output_type": "stream",
     "text": [
      "Processing audio files:  78%|███████▊  | 117/150 [06:35<01:21,  2.46s/it]"
     ]
    },
    {
     "name": "stdout",
     "output_type": "stream",
     "text": [
      "Attempting to transcribe: c:\\Users\\priya\\SpokenNER\\Audio_Files_for_testing\\id118.wav\n"
     ]
    },
    {
     "name": "stderr",
     "output_type": "stream",
     "text": [
      "Processing audio files:  79%|███████▊  | 118/150 [06:37<01:16,  2.39s/it]"
     ]
    },
    {
     "name": "stdout",
     "output_type": "stream",
     "text": [
      "Attempting to transcribe: c:\\Users\\priya\\SpokenNER\\Audio_Files_for_testing\\id119.wav\n"
     ]
    },
    {
     "name": "stderr",
     "output_type": "stream",
     "text": [
      "Processing audio files:  79%|███████▉  | 119/150 [06:40<01:11,  2.31s/it]"
     ]
    },
    {
     "name": "stdout",
     "output_type": "stream",
     "text": [
      "Attempting to transcribe: c:\\Users\\priya\\SpokenNER\\Audio_Files_for_testing\\id120.wav\n"
     ]
    },
    {
     "name": "stderr",
     "output_type": "stream",
     "text": [
      "Processing audio files:  80%|████████  | 120/150 [06:42<01:09,  2.33s/it]"
     ]
    },
    {
     "name": "stdout",
     "output_type": "stream",
     "text": [
      "Attempting to transcribe: c:\\Users\\priya\\SpokenNER\\Audio_Files_for_testing\\id121.wav\n"
     ]
    },
    {
     "name": "stderr",
     "output_type": "stream",
     "text": [
      "Processing audio files:  81%|████████  | 121/150 [06:45<01:09,  2.39s/it]"
     ]
    },
    {
     "name": "stdout",
     "output_type": "stream",
     "text": [
      "Attempting to transcribe: c:\\Users\\priya\\SpokenNER\\Audio_Files_for_testing\\id122.wav\n"
     ]
    },
    {
     "name": "stderr",
     "output_type": "stream",
     "text": [
      "Processing audio files:  81%|████████▏ | 122/150 [06:47<01:07,  2.41s/it]"
     ]
    },
    {
     "name": "stdout",
     "output_type": "stream",
     "text": [
      "Attempting to transcribe: c:\\Users\\priya\\SpokenNER\\Audio_Files_for_testing\\id123.wav\n"
     ]
    },
    {
     "name": "stderr",
     "output_type": "stream",
     "text": [
      "Processing audio files:  82%|████████▏ | 123/150 [06:50<01:08,  2.52s/it]"
     ]
    },
    {
     "name": "stdout",
     "output_type": "stream",
     "text": [
      "Attempting to transcribe: c:\\Users\\priya\\SpokenNER\\Audio_Files_for_testing\\id124.wav\n"
     ]
    },
    {
     "name": "stderr",
     "output_type": "stream",
     "text": [
      "Processing audio files:  83%|████████▎ | 124/150 [06:52<01:05,  2.54s/it]"
     ]
    },
    {
     "name": "stdout",
     "output_type": "stream",
     "text": [
      "Attempting to transcribe: c:\\Users\\priya\\SpokenNER\\Audio_Files_for_testing\\id125.wav\n"
     ]
    },
    {
     "name": "stderr",
     "output_type": "stream",
     "text": [
      "Processing audio files:  83%|████████▎ | 125/150 [06:55<01:03,  2.54s/it]"
     ]
    },
    {
     "name": "stdout",
     "output_type": "stream",
     "text": [
      "Attempting to transcribe: c:\\Users\\priya\\SpokenNER\\Audio_Files_for_testing\\id126.wav\n"
     ]
    },
    {
     "name": "stderr",
     "output_type": "stream",
     "text": [
      "Processing audio files:  84%|████████▍ | 126/150 [06:57<00:59,  2.49s/it]"
     ]
    },
    {
     "name": "stdout",
     "output_type": "stream",
     "text": [
      "Attempting to transcribe: c:\\Users\\priya\\SpokenNER\\Audio_Files_for_testing\\id127.wav\n"
     ]
    },
    {
     "name": "stderr",
     "output_type": "stream",
     "text": [
      "Processing audio files:  85%|████████▍ | 127/150 [06:59<00:55,  2.42s/it]"
     ]
    },
    {
     "name": "stdout",
     "output_type": "stream",
     "text": [
      "Attempting to transcribe: c:\\Users\\priya\\SpokenNER\\Audio_Files_for_testing\\id128.wav\n"
     ]
    },
    {
     "name": "stderr",
     "output_type": "stream",
     "text": [
      "Processing audio files:  85%|████████▌ | 128/150 [07:02<00:52,  2.41s/it]"
     ]
    },
    {
     "name": "stdout",
     "output_type": "stream",
     "text": [
      "Attempting to transcribe: c:\\Users\\priya\\SpokenNER\\Audio_Files_for_testing\\id129.wav\n"
     ]
    },
    {
     "name": "stderr",
     "output_type": "stream",
     "text": [
      "Processing audio files:  86%|████████▌ | 129/150 [07:04<00:50,  2.43s/it]"
     ]
    },
    {
     "name": "stdout",
     "output_type": "stream",
     "text": [
      "Attempting to transcribe: c:\\Users\\priya\\SpokenNER\\Audio_Files_for_testing\\id130.wav\n"
     ]
    },
    {
     "name": "stderr",
     "output_type": "stream",
     "text": [
      "Processing audio files:  87%|████████▋ | 130/150 [07:07<00:50,  2.53s/it]"
     ]
    },
    {
     "name": "stdout",
     "output_type": "stream",
     "text": [
      "Attempting to transcribe: c:\\Users\\priya\\SpokenNER\\Audio_Files_for_testing\\id131.wav\n"
     ]
    },
    {
     "name": "stderr",
     "output_type": "stream",
     "text": [
      "Processing audio files:  87%|████████▋ | 131/150 [07:10<00:49,  2.59s/it]"
     ]
    },
    {
     "name": "stdout",
     "output_type": "stream",
     "text": [
      "Attempting to transcribe: c:\\Users\\priya\\SpokenNER\\Audio_Files_for_testing\\id132.wav\n"
     ]
    },
    {
     "name": "stderr",
     "output_type": "stream",
     "text": [
      "Processing audio files:  88%|████████▊ | 132/150 [07:12<00:45,  2.53s/it]"
     ]
    },
    {
     "name": "stdout",
     "output_type": "stream",
     "text": [
      "Attempting to transcribe: c:\\Users\\priya\\SpokenNER\\Audio_Files_for_testing\\id133.wav\n"
     ]
    },
    {
     "name": "stderr",
     "output_type": "stream",
     "text": [
      "Processing audio files:  89%|████████▊ | 133/150 [07:15<00:43,  2.57s/it]"
     ]
    },
    {
     "name": "stdout",
     "output_type": "stream",
     "text": [
      "Attempting to transcribe: c:\\Users\\priya\\SpokenNER\\Audio_Files_for_testing\\id134.wav\n"
     ]
    },
    {
     "name": "stderr",
     "output_type": "stream",
     "text": [
      "Processing audio files:  89%|████████▉ | 134/150 [07:18<00:43,  2.69s/it]"
     ]
    },
    {
     "name": "stdout",
     "output_type": "stream",
     "text": [
      "Attempting to transcribe: c:\\Users\\priya\\SpokenNER\\Audio_Files_for_testing\\id135.wav\n"
     ]
    },
    {
     "name": "stderr",
     "output_type": "stream",
     "text": [
      "Processing audio files:  90%|█████████ | 135/150 [07:21<00:41,  2.79s/it]"
     ]
    },
    {
     "name": "stdout",
     "output_type": "stream",
     "text": [
      "Attempting to transcribe: c:\\Users\\priya\\SpokenNER\\Audio_Files_for_testing\\id136.wav\n"
     ]
    },
    {
     "name": "stderr",
     "output_type": "stream",
     "text": [
      "Processing audio files:  91%|█████████ | 136/150 [07:23<00:38,  2.73s/it]"
     ]
    },
    {
     "name": "stdout",
     "output_type": "stream",
     "text": [
      "Attempting to transcribe: c:\\Users\\priya\\SpokenNER\\Audio_Files_for_testing\\id137.wav\n"
     ]
    },
    {
     "name": "stderr",
     "output_type": "stream",
     "text": [
      "Processing audio files:  91%|█████████▏| 137/150 [07:26<00:36,  2.79s/it]"
     ]
    },
    {
     "name": "stdout",
     "output_type": "stream",
     "text": [
      "Attempting to transcribe: c:\\Users\\priya\\SpokenNER\\Audio_Files_for_testing\\id138.wav\n"
     ]
    },
    {
     "name": "stderr",
     "output_type": "stream",
     "text": [
      "Processing audio files:  92%|█████████▏| 138/150 [07:29<00:32,  2.71s/it]"
     ]
    },
    {
     "name": "stdout",
     "output_type": "stream",
     "text": [
      "Attempting to transcribe: c:\\Users\\priya\\SpokenNER\\Audio_Files_for_testing\\id139.wav\n"
     ]
    },
    {
     "name": "stderr",
     "output_type": "stream",
     "text": [
      "Processing audio files:  93%|█████████▎| 139/150 [07:31<00:29,  2.66s/it]"
     ]
    },
    {
     "name": "stdout",
     "output_type": "stream",
     "text": [
      "Attempting to transcribe: c:\\Users\\priya\\SpokenNER\\Audio_Files_for_testing\\id140.wav\n"
     ]
    },
    {
     "name": "stderr",
     "output_type": "stream",
     "text": [
      "Processing audio files:  93%|█████████▎| 140/150 [07:34<00:25,  2.60s/it]"
     ]
    },
    {
     "name": "stdout",
     "output_type": "stream",
     "text": [
      "Attempting to transcribe: c:\\Users\\priya\\SpokenNER\\Audio_Files_for_testing\\id141.wav\n"
     ]
    },
    {
     "name": "stderr",
     "output_type": "stream",
     "text": [
      "Processing audio files:  94%|█████████▍| 141/150 [07:37<00:24,  2.68s/it]"
     ]
    },
    {
     "name": "stdout",
     "output_type": "stream",
     "text": [
      "Attempting to transcribe: c:\\Users\\priya\\SpokenNER\\Audio_Files_for_testing\\id142.wav\n"
     ]
    },
    {
     "name": "stderr",
     "output_type": "stream",
     "text": [
      "Processing audio files:  95%|█████████▍| 142/150 [07:39<00:20,  2.53s/it]"
     ]
    },
    {
     "name": "stdout",
     "output_type": "stream",
     "text": [
      "Attempting to transcribe: c:\\Users\\priya\\SpokenNER\\Audio_Files_for_testing\\id143.wav\n"
     ]
    },
    {
     "name": "stderr",
     "output_type": "stream",
     "text": [
      "Processing audio files:  95%|█████████▌| 143/150 [07:41<00:17,  2.48s/it]"
     ]
    },
    {
     "name": "stdout",
     "output_type": "stream",
     "text": [
      "Attempting to transcribe: c:\\Users\\priya\\SpokenNER\\Audio_Files_for_testing\\id144.wav\n"
     ]
    },
    {
     "name": "stderr",
     "output_type": "stream",
     "text": [
      "Processing audio files:  96%|█████████▌| 144/150 [07:44<00:15,  2.51s/it]"
     ]
    },
    {
     "name": "stdout",
     "output_type": "stream",
     "text": [
      "Attempting to transcribe: c:\\Users\\priya\\SpokenNER\\Audio_Files_for_testing\\id145.wav\n"
     ]
    },
    {
     "name": "stderr",
     "output_type": "stream",
     "text": [
      "Processing audio files:  97%|█████████▋| 145/150 [07:47<00:12,  2.56s/it]"
     ]
    },
    {
     "name": "stdout",
     "output_type": "stream",
     "text": [
      "Attempting to transcribe: c:\\Users\\priya\\SpokenNER\\Audio_Files_for_testing\\id146.wav\n"
     ]
    },
    {
     "name": "stderr",
     "output_type": "stream",
     "text": [
      "Processing audio files:  97%|█████████▋| 146/150 [07:49<00:09,  2.47s/it]"
     ]
    },
    {
     "name": "stdout",
     "output_type": "stream",
     "text": [
      "Attempting to transcribe: c:\\Users\\priya\\SpokenNER\\Audio_Files_for_testing\\id147.wav\n"
     ]
    },
    {
     "name": "stderr",
     "output_type": "stream",
     "text": [
      "Processing audio files:  98%|█████████▊| 147/150 [07:51<00:07,  2.49s/it]"
     ]
    },
    {
     "name": "stdout",
     "output_type": "stream",
     "text": [
      "Attempting to transcribe: c:\\Users\\priya\\SpokenNER\\Audio_Files_for_testing\\id148.wav\n"
     ]
    },
    {
     "name": "stderr",
     "output_type": "stream",
     "text": [
      "Processing audio files:  99%|█████████▊| 148/150 [07:54<00:05,  2.52s/it]"
     ]
    },
    {
     "name": "stdout",
     "output_type": "stream",
     "text": [
      "Attempting to transcribe: c:\\Users\\priya\\SpokenNER\\Audio_Files_for_testing\\id149.wav\n"
     ]
    },
    {
     "name": "stderr",
     "output_type": "stream",
     "text": [
      "Processing audio files:  99%|█████████▉| 149/150 [07:56<00:02,  2.46s/it]"
     ]
    },
    {
     "name": "stdout",
     "output_type": "stream",
     "text": [
      "Attempting to transcribe: c:\\Users\\priya\\SpokenNER\\Audio_Files_for_testing\\id150.wav\n"
     ]
    },
    {
     "name": "stderr",
     "output_type": "stream",
     "text": [
      "Processing audio files: 100%|██████████| 150/150 [07:59<00:00,  3.20s/it]"
     ]
    },
    {
     "name": "stdout",
     "output_type": "stream",
     "text": [
      "Transcription complete. Results saved to c:\\Users\\priya\\SpokenNER\\WER_hypothesized.jsonl\n"
     ]
    },
    {
     "name": "stderr",
     "output_type": "stream",
     "text": [
      "\n"
     ]
    }
   ],
   "source": [
    "import os\n",
    "import json\n",
    "import numpy as np\n",
    "import soundfile as sf\n",
    "import torch\n",
    "import whisper\n",
    "from tqdm import tqdm\n",
    "# Get the current working directory\n",
    "current_dir = os.getcwd()\n",
    "model = whisper.load_model(\"base\")\n",
    "# Set the input and output paths using absolute paths\n",
    "input_folder = os.path.join(current_dir, \"Audio_Files_for_testing\")\n",
    "output_file = os.path.join(current_dir, \"WER_hypothesized.jsonl\")\n",
    "# Create a list of all .wav files in the input folder\n",
    "audio_files = [f for f in os.listdir(input_folder) if f.endswith('.wav')]\n",
    "# Sort the files to ensure they're processed in order\n",
    "audio_files.sort(key=lambda x: int(x[2:-4]))  # Sorting based on the number in the filename\n",
    "print(f\"Found {len(audio_files)} audio files in {input_folder}\")\n",
    "# Process each audio file and write results to the JSONL file\n",
    "with open(output_file, 'w') as outfile:\n",
    "    for audio_file in tqdm(audio_files, desc=\"Processing audio files\"):\n",
    "        file_path = os.path.join(input_folder, audio_file)\n",
    "        print(f\"Attempting to transcribe: {file_path}\")\n",
    "        try:\n",
    "            audio, sr = sf.read(file_path)\n",
    "            # Convert to mono if stereo\n",
    "            if len(audio.shape) > 1:\n",
    "                audio = audio.mean(axis=1)\n",
    "            # Convert to float32\n",
    "            audio = audio.astype(np.float32)\n",
    "            # Convert to PyTorch tensor\n",
    "            audio_tensor = torch.from_numpy(audio)\n",
    "            # Transcribe the audio\n",
    "            result = model.transcribe(audio_tensor)\n",
    "            # Create a dictionary with the results\n",
    "            output = {\n",
    "                \"file\": audio_file,\n",
    "                \"text\": result[\"text\"]\n",
    "            }\n",
    "            # Write the result to the JSONL file\n",
    "            json.dump(output, outfile)\n",
    "            outfile.write('\\n')\n",
    "        except FileNotFoundError:\n",
    "            print(f\"File not found: {file_path}\")\n",
    "        except Exception as e:\n",
    "            print(f\"Error processing {file_path}: {str(e)}\")\n",
    "print(f\"Transcription complete. Results saved to {output_file}\")"
   ]
  },
  {
   "cell_type": "markdown",
   "metadata": {},
   "source": [
    "# NEW"
   ]
  },
  {
   "cell_type": "code",
   "execution_count": 3,
   "metadata": {},
   "outputs": [],
   "source": [
    "special_tokens = {\n",
    "    'PERSON': '[PERSON_START]', 'PERSON_END': '[PERSON_END]',\n",
    "    'PHONE': '[PHONE_START]', 'PHONE_END': '[PHONE_END]',\n",
    "    'DATE': '[DATE_START]', 'DATE_END': '[DATE_END]',\n",
    "    'CARDINAL': '[CARDINAL_START]', 'CARDINAL_END': '[CARDINAL_END]',\n",
    "    'GPE': '[GPE_START]', 'GPE_END': '[GPE_END]',\n",
    "    'LOC': '[LOC_START]', 'LOC_END': '[LOC_END]',\n",
    "    'MONEY': '[MONEY_START]', 'MONEY_END': '[MONEY_END]',\n",
    "    'ORG': '[ORG_START]', 'ORG_END': '[ORG_END]',\n",
    "    'EMAIL': '[EMAIL_START]', 'EMAIL_END': '[EMAIL_END]',\n",
    "    'CREDIT_CARD': '[CREDIT_CARD_START]', 'CREDIT_CARD_END': '[CREDIT_CARD_END]',\n",
    "    'BANK_ACCOUNT': '[BANK_ACCOUNT_START]', 'BANK_ACCOUNT_END': '[BANK_ACCOUNT_END]',\n",
    "    'CAR_PLATE': '[CAR_PLATE_START]', 'CAR_PLATE_END': '[CAR_PLATE_END]',\n",
    "    'NRIC': '[NRIC_START]', 'NRIC_END': '[NRIC_END]',\n",
    "    'PASSPORT_NUM': '[PASSPORT_NUM_START]', 'PASSPORT_NUM_END': '[PASSPORT_NUM_END]',\n",
    "    'TIME': '[TIME_START]', 'TIME_END': '[TIME_END]',\n",
    "}"
   ]
  },
  {
   "cell_type": "code",
   "execution_count": 5,
   "metadata": {},
   "outputs": [],
   "source": [
    "import json\n",
    "import os\n",
    "\n",
    "def prepare_data(jsonl_file, output_file, prefix=\"train\", skip_indices=None, special_tokens=None):\n",
    "    data = []\n",
    "    with open(jsonl_file, 'r') as f:\n",
    "        for i, line in enumerate(f):\n",
    "            if skip_indices and i in skip_indices:\n",
    "                continue\n",
    "            item = json.loads(line)\n",
    "            text = item['text']\n",
    "            entities = item['entities']\n",
    "            for start, end, label in reversed(entities):\n",
    "                start_token = special_tokens.get(label, f'[{label}_START]') if special_tokens else f'[{label}_START]'\n",
    "                end_token = special_tokens.get(f'{label}_END', f'[{label}_END]') if special_tokens else f'[{label}_END]'\n",
    "                text = text[:start] + f\"{start_token} \" + text[start:end] + f\" {end_token}\" + text[end:]\n",
    "            audio_file = f\"{audio_folder}/{prefix}{i+1}.wav\"\n",
    "            if not os.path.exists(audio_file):\n",
    "                continue\n",
    "            \n",
    "            data.append({\n",
    "                'text': text,\n",
    "                'audio': audio_file, # Uncomment if audio files are needed\n",
    "            })\n",
    "    with open(output_file, 'w') as f:\n",
    "        for item in data:\n",
    "            json.dump(item, f)\n",
    "            f.write('\\n')\n",
    "\n",
    "# Example usage\n",
    "jsonl_file = 'Text_with_ids.jsonl'\n",
    "output_file = 'Text_with_ids_v2.jsonl'\n",
    "prepare_data(jsonl_file, output_file, special_tokens=special_tokens)\n"
   ]
  },
  {
   "cell_type": "markdown",
   "metadata": {},
   "source": [
    "# END"
   ]
  },
  {
   "cell_type": "code",
   "execution_count": 10,
   "metadata": {},
   "outputs": [
    {
     "name": "stdout",
     "output_type": "stream",
     "text": [
      "Average WER: 0.28\n"
     ]
    }
   ],
   "source": [
    "import json\n",
    "import jiwer\n",
    "def load_jsonl(file_path):\n",
    "    data = []\n",
    "    with open(file_path, 'r') as file:\n",
    "        for line in file:\n",
    "            data.append(json.loads(line))\n",
    "    return data\n",
    "def calculate_wer(true_data, hypothesized_data):\n",
    "    wers = []\n",
    "    for true, hypo in zip(true_data, hypothesized_data):\n",
    "        true_text = true['text']\n",
    "        hypo_text = hypo['text']\n",
    "        transformation = jiwer.Compose([\n",
    "            jiwer.RemovePunctuation(),\n",
    "            jiwer.Strip(),\n",
    "            jiwer.ToLowerCase()\n",
    "        ])\n",
    "        true_text = transformation(true_text)\n",
    "        hypo_text = transformation(hypo_text)\n",
    "        wer = jiwer.wer(true_text, hypo_text)\n",
    "        wers.append(wer)\n",
    "    return wers\n",
    "true_file_path = 'Text_with_ids_v2_preprocessed_preprocessed.jsonl'\n",
    "hypo_file_path = 'transcriptions_text_only_preprocessed_preprocessed.jsonl'\n",
    "true_data = load_jsonl(true_file_path)\n",
    "hypo_data = load_jsonl(hypo_file_path)\n",
    "wers = calculate_wer(true_data, hypo_data)\n",
    "average_wer = sum(wers) / len(wers)\n",
    "print(f'Average WER: {average_wer:.2f}')\n"
   ]
  }
 ],
 "metadata": {
  "kernelspec": {
   "display_name": "Python 3",
   "language": "python",
   "name": "python3"
  },
  "language_info": {
   "codemirror_mode": {
    "name": "ipython",
    "version": 3
   },
   "file_extension": ".py",
   "mimetype": "text/x-python",
   "name": "python",
   "nbconvert_exporter": "python",
   "pygments_lexer": "ipython3",
   "version": "3.9.19"
  }
 },
 "nbformat": 4,
 "nbformat_minor": 2
}
